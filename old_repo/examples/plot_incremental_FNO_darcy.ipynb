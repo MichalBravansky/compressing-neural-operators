{
  "cells": [
    {
      "cell_type": "markdown",
      "metadata": {},
      "source": [
        "\n",
        "# Training an FNO with incremental meta-learning\n",
        "In this example, we demonstrate how to use the small Darcy-Flow \n",
        "example we ship with the package to demonstrate the Incremental FNO\n",
        "meta-learning algorithm\n"
      ]
    },
    {
      "cell_type": "code",
      "execution_count": 1,
      "metadata": {
        "collapsed": false
      },
      "outputs": [],
      "source": [
        "import torch\n",
        "import matplotlib.pyplot as plt\n",
        "import sys\n",
        "from neuralop.models import FNO\n",
        "from neuralop.data.datasets import load_darcy_flow_small\n",
        "from neuralop.utils import count_model_params\n",
        "from neuralop.training import AdamW\n",
        "from neuralop.training.incremental import IncrementalFNOTrainer\n",
        "from neuralop.data.transforms.data_processors import IncrementalDataProcessor\n",
        "from neuralop import LpLoss, H1Loss"
      ]
    },
    {
      "cell_type": "markdown",
      "metadata": {},
      "source": [
        "Loading the Darcy flow dataset\n",
        "\n"
      ]
    },
    {
      "cell_type": "code",
      "execution_count": 2,
      "metadata": {
        "collapsed": false
      },
      "outputs": [
        {
          "name": "stdout",
          "output_type": "stream",
          "text": [
            "Loading test db for resolution 16 with 100 samples \n",
            "Loading test db for resolution 32 with 50 samples \n"
          ]
        },
        {
          "name": "stderr",
          "output_type": "stream",
          "text": [
            "C:\\Users\\Evave\\AppData\\Local\\Packages\\PythonSoftwareFoundation.Python.3.11_qbz5n2kfra8p0\\LocalCache\\local-packages\\Python311\\site-packages\\neuralop\\data\\datasets\\pt_dataset.py:93: FutureWarning: You are using `torch.load` with `weights_only=False` (the current default value), which uses the default pickle module implicitly. It is possible to construct malicious pickle data which will execute arbitrary code during unpickling (See https://github.com/pytorch/pytorch/blob/main/SECURITY.md#untrusted-models for more details). In a future release, the default value for `weights_only` will be flipped to `True`. This limits the functions that could be executed during unpickling. Arbitrary objects will no longer be allowed to be loaded via this mode unless they are explicitly allowlisted by the user via `torch.serialization.add_safe_globals`. We recommend you start setting `weights_only=True` for any use case where you don't have full control of the loaded file. Please open an issue on GitHub for any issues related to this experimental feature.\n",
            "  data = torch.load(\n",
            "C:\\Users\\Evave\\AppData\\Local\\Packages\\PythonSoftwareFoundation.Python.3.11_qbz5n2kfra8p0\\LocalCache\\local-packages\\Python311\\site-packages\\neuralop\\data\\datasets\\pt_dataset.py:172: FutureWarning: You are using `torch.load` with `weights_only=False` (the current default value), which uses the default pickle module implicitly. It is possible to construct malicious pickle data which will execute arbitrary code during unpickling (See https://github.com/pytorch/pytorch/blob/main/SECURITY.md#untrusted-models for more details). In a future release, the default value for `weights_only` will be flipped to `True`. This limits the functions that could be executed during unpickling. Arbitrary objects will no longer be allowed to be loaded via this mode unless they are explicitly allowlisted by the user via `torch.serialization.add_safe_globals`. We recommend you start setting `weights_only=True` for any use case where you don't have full control of the loaded file. Please open an issue on GitHub for any issues related to this experimental feature.\n",
            "  data = torch.load(Path(root_dir).joinpath(f\"{dataset_name}_test_{res}.pt\").as_posix())\n"
          ]
        }
      ],
      "source": [
        "train_loader, test_loaders, output_encoder = load_darcy_flow_small(\n",
        "    n_train=100,\n",
        "    batch_size=16,\n",
        "    test_resolutions=[16, 32],\n",
        "    n_tests=[100, 50],\n",
        "    test_batch_sizes=[32, 32],\n",
        ")"
      ]
    },
    {
      "cell_type": "markdown",
      "metadata": {},
      "source": [
        "Choose device\n",
        "\n"
      ]
    },
    {
      "cell_type": "code",
      "execution_count": 3,
      "metadata": {
        "collapsed": false
      },
      "outputs": [],
      "source": [
        "device = torch.device(\"cuda\" if torch.cuda.is_available() else \"cpu\")"
      ]
    },
    {
      "cell_type": "markdown",
      "metadata": {},
      "source": [
        "Set up the incremental FNO model\n",
        "We start with 2 modes in each dimension\n",
        "We choose to update the modes by the incremental gradient explained algorithm\n",
        "\n"
      ]
    },
    {
      "cell_type": "code",
      "execution_count": 4,
      "metadata": {
        "collapsed": false
      },
      "outputs": [],
      "source": [
        "incremental = True\n",
        "if incremental:\n",
        "    starting_modes = (2, 2)\n",
        "else:\n",
        "    starting_modes = (16, 16)"
      ]
    },
    {
      "cell_type": "markdown",
      "metadata": {},
      "source": [
        "set up model\n",
        "\n"
      ]
    },
    {
      "cell_type": "code",
      "execution_count": 5,
      "metadata": {
        "collapsed": false
      },
      "outputs": [],
      "source": [
        "model = FNO(\n",
        "    max_n_modes=(16, 16),\n",
        "    n_modes=starting_modes,\n",
        "    hidden_channels=32,\n",
        "    in_channels=1,\n",
        "    out_channels=1,\n",
        ")\n",
        "model = model.to(device)\n",
        "n_params = count_model_params(model)"
      ]
    },
    {
      "cell_type": "markdown",
      "metadata": {},
      "source": [
        "Set up the optimizer and scheduler\n",
        "\n"
      ]
    },
    {
      "cell_type": "code",
      "execution_count": 6,
      "metadata": {
        "collapsed": false
      },
      "outputs": [
        {
          "name": "stdout",
          "output_type": "stream",
          "text": [
            "Original Incre Res: change index to 0\n",
            "Original Incre Res: change sub to 2\n",
            "Original Incre Res: change res to 8\n"
          ]
        }
      ],
      "source": [
        "optimizer = AdamW(model.parameters(), lr=8e-3, weight_decay=1e-4)\n",
        "scheduler = torch.optim.lr_scheduler.CosineAnnealingLR(optimizer, T_max=30)\n",
        "\n",
        "\n",
        "# If one wants to use Incremental Resolution, one should use the IncrementalDataProcessor - When passed to the trainer, the trainer will automatically update the resolution\n",
        "# Incremental_resolution : bool, default is False\n",
        "#    if True, increase the resolution of the input incrementally\n",
        "#    uses the incremental_res_gap parameter\n",
        "#    uses the subsampling_rates parameter - a list of resolutions to use\n",
        "#    uses the dataset_indices parameter - a list of indices of the dataset to slice to regularize the input resolution\n",
        "#    uses the dataset_resolution parameter - the resolution of the input\n",
        "#    uses the epoch_gap parameter - the number of epochs to wait before increasing the resolution\n",
        "#    uses the verbose parameter - if True, print the resolution and the number of modes\n",
        "data_transform = IncrementalDataProcessor(\n",
        "    in_normalizer=None,\n",
        "    out_normalizer=None,\n",
        "    device=device,\n",
        "    subsampling_rates=[2, 1],\n",
        "    dataset_resolution=16,\n",
        "    dataset_indices=[2, 3],\n",
        "    epoch_gap=10,\n",
        "    verbose=True,\n",
        ")\n",
        "\n",
        "data_transform = data_transform.to(device)"
      ]
    },
    {
      "cell_type": "markdown",
      "metadata": {},
      "source": [
        "Set up the losses\n",
        "\n"
      ]
    },
    {
      "cell_type": "code",
      "execution_count": 7,
      "metadata": {
        "collapsed": false
      },
      "outputs": [
        {
          "name": "stdout",
          "output_type": "stream",
          "text": [
            "\n",
            "### N PARAMS ###\n",
            " 2110305\n",
            "\n",
            "### OPTIMIZER ###\n",
            " AdamW (\n",
            "Parameter Group 0\n",
            "    betas: (0.9, 0.999)\n",
            "    correct_bias: True\n",
            "    eps: 1e-06\n",
            "    initial_lr: 0.008\n",
            "    lr: 0.008\n",
            "    weight_decay: 0.0001\n",
            ")\n",
            "\n",
            "### SCHEDULER ###\n",
            " <torch.optim.lr_scheduler.CosineAnnealingLR object at 0x000001DD85197CD0>\n",
            "\n",
            "### LOSSES ###\n",
            "\n",
            "### INCREMENTAL RESOLUTION + GRADIENT EXPLAINED ###\n",
            "\n",
            " * Train: <neuralop.losses.data_losses.H1Loss object at 0x000001DD851AF690>\n",
            "\n",
            " * Test: {'h1': <neuralop.losses.data_losses.H1Loss object at 0x000001DD851AF690>, 'l2': <neuralop.losses.data_losses.LpLoss object at 0x000001DD851BEE50>}\n"
          ]
        }
      ],
      "source": [
        "l2loss = LpLoss(d=2, p=2)\n",
        "h1loss = H1Loss(d=2)\n",
        "train_loss = h1loss\n",
        "eval_losses = {\"h1\": h1loss, \"l2\": l2loss}\n",
        "print(\"\\n### N PARAMS ###\\n\", n_params)\n",
        "print(\"\\n### OPTIMIZER ###\\n\", optimizer)\n",
        "print(\"\\n### SCHEDULER ###\\n\", scheduler)\n",
        "print(\"\\n### LOSSES ###\")\n",
        "print(\"\\n### INCREMENTAL RESOLUTION + GRADIENT EXPLAINED ###\")\n",
        "print(f\"\\n * Train: {train_loss}\")\n",
        "print(f\"\\n * Test: {eval_losses}\")\n",
        "sys.stdout.flush()"
      ]
    },
    {
      "cell_type": "markdown",
      "metadata": {},
      "source": [
        "Set up the IncrementalTrainer\n",
        "other options include setting incremental_loss_gap = True\n",
        "If one wants to use incremental resolution set it to True\n",
        "In this example we only update the modes and not the resolution\n",
        "When using the incremental resolution one should keep in mind that the numnber of modes initially set should be strictly less than the resolution\n",
        "Again these are the various paramaters for the various incremental settings\n",
        "incremental_grad : bool, default is False\n",
        "   if True, use the base incremental algorithm which is based on gradient variance\n",
        "   uses the incremental_grad_eps parameter - set the threshold for gradient variance\n",
        "   uses the incremental_buffer paramater - sets the number of buffer modes to calculate the gradient variance\n",
        "   uses the incremental_max_iter parameter - sets the initial number of iterations\n",
        "   uses the incremental_grad_max_iter parameter - sets the maximum number of iterations to accumulate the gradients\n",
        "incremental_loss_gap : bool, default is False\n",
        "   if True, use the incremental algorithm based on loss gap\n",
        "   uses the incremental_loss_eps parameter\n",
        "\n"
      ]
    },
    {
      "cell_type": "code",
      "execution_count": 8,
      "metadata": {
        "collapsed": false
      },
      "outputs": [],
      "source": [
        "# Finally pass all of these to the Trainer\n",
        "trainer = IncrementalFNOTrainer(\n",
        "    model=model,\n",
        "    n_epochs=20,\n",
        "    data_processor=data_transform,\n",
        "    device=device,\n",
        "    verbose=True,\n",
        "    incremental_loss_gap=False,\n",
        "    incremental_grad=True,\n",
        "    incremental_grad_eps=0.9999,\n",
        "    incremental_loss_eps = 0.001,\n",
        "    incremental_buffer=5,\n",
        "    incremental_max_iter=1,\n",
        "    incremental_grad_max_iter=2,\n",
        ")"
      ]
    },
    {
      "cell_type": "markdown",
      "metadata": {},
      "source": [
        "Train the model\n",
        "\n"
      ]
    },
    {
      "cell_type": "code",
      "execution_count": 9,
      "metadata": {
        "collapsed": false
      },
      "outputs": [
        {
          "name": "stdout",
          "output_type": "stream",
          "text": [
            "Training on 100 samples\n",
            "Testing on [50, 50] samples         on resolutions [16, 32].\n",
            "Raw outputs of shape torch.Size([16, 1, 8, 8])\n",
            "[0] time=1.16, avg_loss=0.9405, train_err=13.4357\n",
            "Eval: 16_h1=0.8910, 16_l2=0.5812, 32_h1=0.9272, 32_l2=0.5825\n",
            "[1] time=0.12, avg_loss=0.8281, train_err=11.8304\n",
            "Eval: 16_h1=0.8094, 16_l2=0.4774, 32_h1=0.9608, 32_l2=0.4972\n",
            "[2] time=0.07, avg_loss=0.6755, train_err=9.6494\n",
            "Eval: 16_h1=0.7676, 16_l2=0.4130, 32_h1=0.9381, 32_l2=0.4312\n",
            "[3] time=0.07, avg_loss=0.6108, train_err=8.7255\n",
            "Eval: 16_h1=0.8143, 16_l2=0.4600, 32_h1=1.1269, 32_l2=0.5006\n",
            "[4] time=0.06, avg_loss=0.5708, train_err=8.1545\n",
            "Eval: 16_h1=0.8113, 16_l2=0.4792, 32_h1=1.1304, 32_l2=0.5214\n",
            "[5] time=0.07, avg_loss=0.5317, train_err=7.5956\n",
            "Eval: 16_h1=0.7682, 16_l2=0.4352, 32_h1=1.0682, 32_l2=0.4729\n",
            "[6] time=0.07, avg_loss=0.5032, train_err=7.1888\n",
            "Eval: 16_h1=0.6855, 16_l2=0.3459, 32_h1=1.0006, 32_l2=0.3821\n",
            "[7] time=0.06, avg_loss=0.4430, train_err=6.3290\n",
            "Eval: 16_h1=0.6172, 16_l2=0.3445, 32_h1=0.8399, 32_l2=0.3820\n",
            "[8] time=0.07, avg_loss=0.3990, train_err=5.7004\n",
            "Eval: 16_h1=0.6177, 16_l2=0.3340, 32_h1=0.8918, 32_l2=0.3808\n",
            "[9] time=0.07, avg_loss=0.3731, train_err=5.3298\n",
            "Eval: 16_h1=0.5839, 16_l2=0.3166, 32_h1=0.8602, 32_l2=0.3577\n",
            "Incre Res Update: change index to 1\n",
            "Incre Res Update: change sub to 1\n",
            "Incre Res Update: change res to 16\n",
            "[10] time=0.10, avg_loss=0.4951, train_err=7.0724\n",
            "Eval: 16_h1=0.4828, 16_l2=0.2826, 32_h1=0.5683, 32_l2=0.2645\n",
            "[11] time=0.06, avg_loss=0.4380, train_err=6.2576\n",
            "Eval: 16_h1=0.4621, 16_l2=0.3081, 32_h1=0.6330, 32_l2=0.3358\n",
            "[12] time=0.07, avg_loss=0.4050, train_err=5.7861\n",
            "Eval: 16_h1=0.4085, 16_l2=0.2573, 32_h1=0.5355, 32_l2=0.2549\n",
            "[13] time=0.07, avg_loss=0.3547, train_err=5.0678\n",
            "Eval: 16_h1=0.4128, 16_l2=0.2596, 32_h1=0.5665, 32_l2=0.2801\n",
            "[14] time=0.07, avg_loss=0.3467, train_err=4.9523\n",
            "Eval: 16_h1=0.4002, 16_l2=0.2537, 32_h1=0.5292, 32_l2=0.2488\n",
            "[15] time=0.07, avg_loss=0.3340, train_err=4.7720\n",
            "Eval: 16_h1=0.3654, 16_l2=0.2330, 32_h1=0.5245, 32_l2=0.2530\n",
            "[16] time=0.07, avg_loss=0.3171, train_err=4.5302\n",
            "Eval: 16_h1=0.3374, 16_l2=0.2163, 32_h1=0.4619, 32_l2=0.2221\n",
            "[17] time=0.07, avg_loss=0.2971, train_err=4.2439\n",
            "Eval: 16_h1=0.3572, 16_l2=0.2302, 32_h1=0.5029, 32_l2=0.2523\n",
            "[18] time=0.06, avg_loss=0.2932, train_err=4.1883\n",
            "Eval: 16_h1=0.3206, 16_l2=0.2098, 32_h1=0.4531, 32_l2=0.2215\n",
            "[19] time=0.07, avg_loss=0.2676, train_err=3.8232\n",
            "Eval: 16_h1=0.3170, 16_l2=0.2076, 32_h1=0.4604, 32_l2=0.2245\n"
          ]
        },
        {
          "data": {
            "text/plain": [
              "{'train_err': 3.8232131685529436,\n",
              " 'avg_loss': 0.26762492179870606,\n",
              " 'avg_lasso_loss': None,\n",
              " 'epoch_train_time': 0.07271450001280755,\n",
              " '16_h1': tensor(0.3170, device='cuda:0'),\n",
              " '16_l2': tensor(0.2076, device='cuda:0'),\n",
              " '32_h1': tensor(0.4604, device='cuda:0'),\n",
              " '32_l2': tensor(0.2245, device='cuda:0')}"
            ]
          },
          "execution_count": 9,
          "metadata": {},
          "output_type": "execute_result"
        }
      ],
      "source": [
        "trainer.train(\n",
        "    train_loader,\n",
        "    test_loaders,\n",
        "    optimizer,\n",
        "    scheduler,\n",
        "    regularizer=False,\n",
        "    training_loss=train_loss,\n",
        "    eval_losses=eval_losses,\n",
        ")"
      ]
    },
    {
      "cell_type": "markdown",
      "metadata": {},
      "source": [
        "Plot the prediction, and compare with the ground-truth\n",
        "Note that we trained on a very small resolution for\n",
        "a very small number of epochs\n",
        "In practice, we would train at larger resolution, on many more samples.\n",
        "\n",
        "However, for practicity, we created a minimal example that\n",
        "i) fits in just a few Mb of memory\n",
        "ii) can be trained quickly on CPU\n",
        "\n",
        "In practice we would train a Neural Operator on one or multiple GPUs\n",
        "\n"
      ]
    },
    {
      "cell_type": "code",
      "execution_count": 10,
      "metadata": {
        "collapsed": false
      },
      "outputs": [
        {
          "name": "stderr",
          "output_type": "stream",
          "text": [
            "C:\\Users\\Evave\\AppData\\Local\\Temp\\ipykernel_19224\\2098455258.py:37: UserWarning: FigureCanvasAgg is non-interactive, and thus cannot be shown\n",
            "  fig.show()\n"
          ]
        },
        {
          "data": {
            "image/png": "[encoded data removed]",
            "text/plain": [
              "<Figure size 700x700 with 9 Axes>"
            ]
          },
          "metadata": {},
          "output_type": "display_data"
        }
      ],
      "source": [
        "test_samples = test_loaders[32].dataset\n",
        "\n",
        "fig = plt.figure(figsize=(7, 7))\n",
        "for index in range(3):\n",
        "    data = test_samples[index]\n",
        "    # Input x\n",
        "    x = data[\"x\"].to(device)\n",
        "    # Ground-truth\n",
        "    y = data[\"y\"].to(device)\n",
        "    # Model prediction\n",
        "    out = model(x.unsqueeze(0))\n",
        "    ax = fig.add_subplot(3, 3, index * 3 + 1)\n",
        "    x = x.cpu().squeeze().detach().numpy()\n",
        "    y = y.cpu().squeeze().detach().numpy()\n",
        "    ax.imshow(x, cmap=\"gray\")\n",
        "    if index == 0:\n",
        "        ax.set_title(\"Input x\")\n",
        "    plt.xticks([], [])\n",
        "    plt.yticks([], [])\n",
        "\n",
        "    ax = fig.add_subplot(3, 3, index * 3 + 2)\n",
        "    ax.imshow(y.squeeze())\n",
        "    if index == 0:\n",
        "        ax.set_title(\"Ground-truth y\")\n",
        "    plt.xticks([], [])\n",
        "    plt.yticks([], [])\n",
        "\n",
        "    ax = fig.add_subplot(3, 3, index * 3 + 3)\n",
        "    ax.imshow(out.cpu().squeeze().detach().numpy())\n",
        "    if index == 0:\n",
        "        ax.set_title(\"Model prediction\")\n",
        "    plt.xticks([], [])\n",
        "    plt.yticks([], [])\n",
        "\n",
        "fig.suptitle(\"Inputs, ground-truth output and prediction.\", y=0.98)\n",
        "plt.tight_layout()\n",
        "fig.show()"
      ]
    }
  ],
  "metadata": {
    "kernelspec": {
      "display_name": "Python 3",
      "language": "python",
      "name": "python3"
    },
    "language_info": {
      "codemirror_mode": {
        "name": "ipython",
        "version": 3
      },
      "file_extension": ".py",
      "mimetype": "text/x-python",
      "name": "python",
      "nbconvert_exporter": "python",
      "pygments_lexer": "ipython3",
      "version": "3.11.9"
    }
  },
  "nbformat": 4,
  "nbformat_minor": 0
}
